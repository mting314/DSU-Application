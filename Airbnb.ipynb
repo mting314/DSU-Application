{
 "cells": [
  {
   "cell_type": "code",
   "execution_count": 137,
   "id": "according-flashing",
   "metadata": {},
   "outputs": [],
   "source": [
    "import pandas as pd"
   ]
  },
  {
   "cell_type": "code",
   "execution_count": 138,
   "id": "lightweight-retreat",
   "metadata": {},
   "outputs": [],
   "source": [
    "df = pd.read_csv(\"airbnb_listings.csv\")"
   ]
  },
  {
   "cell_type": "code",
   "execution_count": 139,
   "id": "higher-current",
   "metadata": {},
   "outputs": [
    {
     "data": {
      "text/html": [
       "<div>\n",
       "<style scoped>\n",
       "    .dataframe tbody tr th:only-of-type {\n",
       "        vertical-align: middle;\n",
       "    }\n",
       "\n",
       "    .dataframe tbody tr th {\n",
       "        vertical-align: top;\n",
       "    }\n",
       "\n",
       "    .dataframe thead th {\n",
       "        text-align: right;\n",
       "    }\n",
       "</style>\n",
       "<table border=\"1\" class=\"dataframe\">\n",
       "  <thead>\n",
       "    <tr style=\"text-align: right;\">\n",
       "      <th></th>\n",
       "      <th>name</th>\n",
       "      <th>number_of_reviews</th>\n",
       "      <th>review_scores_value</th>\n",
       "      <th>cancellation_policy</th>\n",
       "      <th>host_id</th>\n",
       "      <th>host_name</th>\n",
       "      <th>host_for_x_days</th>\n",
       "      <th>host_response_time</th>\n",
       "      <th>host_response_rate</th>\n",
       "      <th>property_type</th>\n",
       "      <th>room_type</th>\n",
       "      <th>accommodates</th>\n",
       "      <th>price</th>\n",
       "      <th>security_deposit</th>\n",
       "      <th>cleaning_fee</th>\n",
       "      <th>minimum_nights</th>\n",
       "      <th>maximum_nights</th>\n",
       "    </tr>\n",
       "  </thead>\n",
       "  <tbody>\n",
       "    <tr>\n",
       "      <th>0</th>\n",
       "      <td>Charming room in pet friendly apt</td>\n",
       "      <td>36</td>\n",
       "      <td>9</td>\n",
       "      <td>2</td>\n",
       "      <td>2572247</td>\n",
       "      <td>Andrea</td>\n",
       "      <td>3389</td>\n",
       "      <td>within an hour</td>\n",
       "      <td>100</td>\n",
       "      <td>Apartment</td>\n",
       "      <td>Private room</td>\n",
       "      <td>2</td>\n",
       "      <td>65</td>\n",
       "      <td>95</td>\n",
       "      <td>10</td>\n",
       "      <td>2</td>\n",
       "      <td>15</td>\n",
       "    </tr>\n",
       "    <tr>\n",
       "      <th>1</th>\n",
       "      <td>Spacious Sunny Bedroom Suite in Historic Home</td>\n",
       "      <td>1</td>\n",
       "      <td>10</td>\n",
       "      <td>2</td>\n",
       "      <td>6031442</td>\n",
       "      <td>Meghna</td>\n",
       "      <td>3071</td>\n",
       "      <td>within a few hours</td>\n",
       "      <td>100</td>\n",
       "      <td>House</td>\n",
       "      <td>Private room</td>\n",
       "      <td>4</td>\n",
       "      <td>75</td>\n",
       "      <td>100</td>\n",
       "      <td>50</td>\n",
       "      <td>1</td>\n",
       "      <td>1125</td>\n",
       "    </tr>\n",
       "    <tr>\n",
       "      <th>2</th>\n",
       "      <td>Perfect &amp; Practical Boston Rental</td>\n",
       "      <td>33</td>\n",
       "      <td>9</td>\n",
       "      <td>3</td>\n",
       "      <td>4434391</td>\n",
       "      <td>Damon</td>\n",
       "      <td>3195</td>\n",
       "      <td>within an hour</td>\n",
       "      <td>100</td>\n",
       "      <td>Apartment</td>\n",
       "      <td>Entire home/apt</td>\n",
       "      <td>5</td>\n",
       "      <td>229</td>\n",
       "      <td>200</td>\n",
       "      <td>50</td>\n",
       "      <td>4</td>\n",
       "      <td>10</td>\n",
       "    </tr>\n",
       "    <tr>\n",
       "      <th>3</th>\n",
       "      <td>Quiet  Beauty in Boston</td>\n",
       "      <td>7</td>\n",
       "      <td>9</td>\n",
       "      <td>2</td>\n",
       "      <td>9658771</td>\n",
       "      <td>Anthony</td>\n",
       "      <td>2882</td>\n",
       "      <td>within a day</td>\n",
       "      <td>75</td>\n",
       "      <td>House</td>\n",
       "      <td>Entire home/apt</td>\n",
       "      <td>2</td>\n",
       "      <td>145</td>\n",
       "      <td>500</td>\n",
       "      <td>150</td>\n",
       "      <td>3</td>\n",
       "      <td>1125</td>\n",
       "    </tr>\n",
       "    <tr>\n",
       "      <th>4</th>\n",
       "      <td>Arborside Guest Cottage</td>\n",
       "      <td>16</td>\n",
       "      <td>10</td>\n",
       "      <td>2</td>\n",
       "      <td>74531248</td>\n",
       "      <td>Carl &amp; Judy</td>\n",
       "      <td>1938</td>\n",
       "      <td>within an hour</td>\n",
       "      <td>100</td>\n",
       "      <td>House</td>\n",
       "      <td>Entire home/apt</td>\n",
       "      <td>3</td>\n",
       "      <td>120</td>\n",
       "      <td>150</td>\n",
       "      <td>50</td>\n",
       "      <td>2</td>\n",
       "      <td>6</td>\n",
       "    </tr>\n",
       "  </tbody>\n",
       "</table>\n",
       "</div>"
      ],
      "text/plain": [
       "                                            name  number_of_reviews  \\\n",
       "0              Charming room in pet friendly apt                 36   \n",
       "1  Spacious Sunny Bedroom Suite in Historic Home                  1   \n",
       "2              Perfect & Practical Boston Rental                 33   \n",
       "3                        Quiet  Beauty in Boston                  7   \n",
       "4                        Arborside Guest Cottage                 16   \n",
       "\n",
       "   review_scores_value  cancellation_policy   host_id    host_name  \\\n",
       "0                    9                    2   2572247       Andrea   \n",
       "1                   10                    2   6031442       Meghna   \n",
       "2                    9                    3   4434391        Damon   \n",
       "3                    9                    2   9658771      Anthony   \n",
       "4                   10                    2  74531248  Carl & Judy   \n",
       "\n",
       "   host_for_x_days  host_response_time  host_response_rate property_type  \\\n",
       "0             3389      within an hour                 100     Apartment   \n",
       "1             3071  within a few hours                 100         House   \n",
       "2             3195      within an hour                 100     Apartment   \n",
       "3             2882        within a day                  75         House   \n",
       "4             1938      within an hour                 100         House   \n",
       "\n",
       "         room_type  accommodates  price  security_deposit  cleaning_fee  \\\n",
       "0     Private room             2     65                95            10   \n",
       "1     Private room             4     75               100            50   \n",
       "2  Entire home/apt             5    229               200            50   \n",
       "3  Entire home/apt             2    145               500           150   \n",
       "4  Entire home/apt             3    120               150            50   \n",
       "\n",
       "   minimum_nights  maximum_nights  \n",
       "0               2              15  \n",
       "1               1            1125  \n",
       "2               4              10  \n",
       "3               3            1125  \n",
       "4               2               6  "
      ]
     },
     "execution_count": 139,
     "metadata": {},
     "output_type": "execute_result"
    }
   ],
   "source": [
    "df.head()"
   ]
  },
  {
   "cell_type": "markdown",
   "id": "destroyed-associate",
   "metadata": {},
   "source": [
    "What percentage of Airbnb listings in this dataset are classified as an apartment with a moderate cancellation policy? Round your answer to three decimal points. *\n"
   ]
  },
  {
   "cell_type": "code",
   "execution_count": 140,
   "id": "thorough-status",
   "metadata": {},
   "outputs": [
    {
     "data": {
      "text/plain": [
       "20.128"
      ]
     },
     "execution_count": 140,
     "metadata": {},
     "output_type": "execute_result"
    }
   ],
   "source": [
    "moderate_apts_df = df.loc[(df.cancellation_policy == 2) & (df.property_type == \"Apartment\")]\n",
    "\n",
    "round(len(moderate_apts_df)/len(df) * 100,3)"
   ]
  },
  {
   "cell_type": "markdown",
   "id": "electoral-orientation",
   "metadata": {},
   "source": [
    "What is the second most common host name in this dataset? How many listings are under that name? *\n"
   ]
  },
  {
   "cell_type": "code",
   "execution_count": 141,
   "id": "adult-proportion",
   "metadata": {},
   "outputs": [
    {
     "data": {
      "text/plain": [
       "host_name\n",
       "Flatbook     35\n",
       "Jason        25\n",
       "Will         21\n",
       "Brent        15\n",
       "Jonathan     14\n",
       "             ..\n",
       "Hongjin       1\n",
       "Heriberto     1\n",
       "Helena        1\n",
       "Helen         1\n",
       "Joshua        1\n",
       "Length: 455, dtype: int64"
      ]
     },
     "execution_count": 141,
     "metadata": {},
     "output_type": "execute_result"
    }
   ],
   "source": [
    "df.value_counts(\"host_name\")"
   ]
  },
  {
   "cell_type": "markdown",
   "id": "chemical-zambia",
   "metadata": {},
   "source": [
    "There could be just a single Jason handing out lots of properties, or lots of different people and Jason is just a really common name. `host_id` will help us differentiate between actually different people. In fact, if we filter by host names of Jason, we can just count how many different (unique) id's there are to get all the distinct Jasons."
   ]
  },
  {
   "cell_type": "code",
   "execution_count": 142,
   "id": "major-spirit",
   "metadata": {},
   "outputs": [
    {
     "data": {
      "text/plain": [
       "7"
      ]
     },
     "execution_count": 142,
     "metadata": {},
     "output_type": "execute_result"
    }
   ],
   "source": [
    "len(df.loc[df.host_name == \"Jason\"].host_id.unique())"
   ]
  },
  {
   "cell_type": "markdown",
   "id": "ignored-mortgage",
   "metadata": {},
   "source": [
    "What is the average difference between the price of a loft and townhouse?"
   ]
  },
  {
   "cell_type": "code",
   "execution_count": 143,
   "id": "falling-domestic",
   "metadata": {},
   "outputs": [
    {
     "data": {
      "text/plain": [
       "<AxesSubplot:xlabel='property_type', ylabel='price'>"
      ]
     },
     "execution_count": 143,
     "metadata": {},
     "output_type": "execute_result"
    },
    {
     "data": {
      "image/png": "[encoded data removed]",
      "text/plain": [
       "<Figure size 720x432 with 1 Axes>"
      ]
     },
     "metadata": {
      "needs_background": "light"
     },
     "output_type": "display_data"
    }
   ],
   "source": [
    "from matplotlib import pyplot as plt\n",
    "\n",
    "fig, ax = plt.subplots(1, 1, figsize = (10, 6))\n",
    "sns.boxplot(x = 'property_type', y = 'price', data = df)\n"
   ]
  },
  {
   "cell_type": "code",
   "execution_count": 144,
   "id": "formed-smile",
   "metadata": {},
   "outputs": [
    {
     "data": {
      "text/plain": [
       "property_type\n",
       "Apartment          180.792109\n",
       "Bed & Breakfast    104.250000\n",
       "Boat               229.000000\n",
       "Condominium        211.131868\n",
       "Guesthouse         289.000000\n",
       "House              166.065359\n",
       "Loft               228.384615\n",
       "Townhouse          187.235294\n",
       "Name: price, dtype: float64"
      ]
     },
     "execution_count": 144,
     "metadata": {},
     "output_type": "execute_result"
    }
   ],
   "source": [
    "avg_prices = df.groupby(\"property_type\")[\"price\"].mean()\n",
    "avg_prices"
   ]
  },
  {
   "cell_type": "code",
   "execution_count": 145,
   "id": "limiting-bidding",
   "metadata": {},
   "outputs": [
    {
     "data": {
      "text/plain": [
       "41.149321266968315"
      ]
     },
     "execution_count": 145,
     "metadata": {},
     "output_type": "execute_result"
    }
   ],
   "source": [
    "avg_prices[\"Loft\"] - avg_prices[\"Townhouse\"]"
   ]
  },
  {
   "cell_type": "markdown",
   "id": "still-cholesterol",
   "metadata": {},
   "source": [
    "Now the question of course is: is this difference statistically significant (i.e., do we have 95% confidence that this wasn't by chance or sampling error alone)"
   ]
  },
  {
   "cell_type": "code",
   "execution_count": 146,
   "id": "funky-scanner",
   "metadata": {},
   "outputs": [
    {
     "data": {
      "text/plain": [
       "0.49070954759543484"
      ]
     },
     "execution_count": 146,
     "metadata": {},
     "output_type": "execute_result"
    }
   ],
   "source": [
    "from scipy.stats import ttest_ind\n",
    "\n",
    "\n",
    "lofts = df.loc[df.property_type == \"Loft\"][\"price\"]\n",
    "townhouses = df.loc[df.property_type == \"Townhouse\"][\"price\"]\n",
    "\n",
    "ttest, pval = ttest_ind(lofts,townhouses)\n",
    "\n",
    "pval"
   ]
  },
  {
   "cell_type": "markdown",
   "id": "lined-render",
   "metadata": {},
   "source": [
    "The p-value is very high, sot his sample provides no evidence that the loft prices are statistically significantly different from townhouse prices.\n",
    "\n",
    "After thinking about it for a bit, this is probably because the number of samples for each population is pretty small, so it might not be valid to use $t$-tests (which need normally distributed data)."
   ]
  },
  {
   "cell_type": "code",
   "execution_count": 147,
   "id": "prescribed-depth",
   "metadata": {},
   "outputs": [
    {
     "data": {
      "text/plain": [
       "(13, 17)"
      ]
     },
     "execution_count": 147,
     "metadata": {},
     "output_type": "execute_result"
    }
   ],
   "source": [
    "len(lofts), len(townhouses)"
   ]
  },
  {
   "cell_type": "markdown",
   "id": "civilian-order",
   "metadata": {},
   "source": [
    "After a bit of reading the Stats 10 textbook, I came across an appropriate looking test: the Mann-Whitney test, which is useful in situations with many different categories (like property types) and just need the distributions to look similar."
   ]
  },
  {
   "cell_type": "code",
   "execution_count": 148,
   "id": "eastern-cycling",
   "metadata": {},
   "outputs": [
    {
     "data": {
      "text/plain": [
       "<AxesSubplot:xlabel='price', ylabel='Count'>"
      ]
     },
     "execution_count": 148,
     "metadata": {},
     "output_type": "execute_result"
    },
    {
     "data": {
      "image/png": "[encoded data removed]",
      "text/plain": [
       "<Figure size 432x288 with 1 Axes>"
      ]
     },
     "metadata": {
      "needs_background": "light"
     },
     "output_type": "display_data"
    }
   ],
   "source": [
    "import seaborn as sns\n",
    "\n",
    "sns.histplot(lofts)"
   ]
  },
  {
   "cell_type": "code",
   "execution_count": 149,
   "id": "handled-family",
   "metadata": {},
   "outputs": [
    {
     "data": {
      "text/plain": [
       "<AxesSubplot:xlabel='price', ylabel='Count'>"
      ]
     },
     "execution_count": 149,
     "metadata": {},
     "output_type": "execute_result"
    },
    {
     "data": {
      "image/png": "[encoded data removed]",
      "text/plain": [
       "<Figure size 432x288 with 1 Axes>"
      ]
     },
     "metadata": {
      "needs_background": "light"
     },
     "output_type": "display_data"
    }
   ],
   "source": [
    "sns.histplot(townhouses)"
   ]
  },
  {
   "cell_type": "markdown",
   "id": "satisfied-williams",
   "metadata": {},
   "source": [
    "And they seem close enough, being fairly right-skewed. So let's execute the test."
   ]
  },
  {
   "cell_type": "code",
   "execution_count": 150,
   "id": "manual-saudi",
   "metadata": {},
   "outputs": [
    {
     "name": "stdout",
     "output_type": "stream",
     "text": [
      "p-value for significance is:  0.041189973951914295\n",
      "reject null hypothesis\n"
     ]
    }
   ],
   "source": [
    "F, p = stats.mannwhitneyu(lofts, townhouses)\n",
    "print(\"p-value for significance is: \", p)\n",
    "if p<0.05:\n",
    "    print(\"reject null hypothesis\")\n",
    "else:\n",
    "    print(\"accept null hypothesis\")"
   ]
  },
  {
   "cell_type": "markdown",
   "id": "declared-rendering",
   "metadata": {},
   "source": [
    "And this test gives us a statistically significant result."
   ]
  },
  {
   "cell_type": "code",
   "execution_count": 151,
   "id": "assumed-storm",
   "metadata": {},
   "outputs": [
    {
     "data": {
      "text/plain": [
       "Index(['name', 'number_of_reviews', 'review_scores_value',\n",
       "       'cancellation_policy', 'host_id', 'host_name', 'host_for_x_days',\n",
       "       'host_response_time', 'host_response_rate', 'property_type',\n",
       "       'room_type', 'accommodates', 'price', 'security_deposit',\n",
       "       'cleaning_fee', 'minimum_nights', 'maximum_nights'],\n",
       "      dtype='object')"
      ]
     },
     "execution_count": 151,
     "metadata": {},
     "output_type": "execute_result"
    }
   ],
   "source": [
    "df.columns"
   ]
  },
  {
   "cell_type": "code",
   "execution_count": 152,
   "id": "growing-blond",
   "metadata": {},
   "outputs": [
    {
     "data": {
      "text/plain": [
       "array(['Private room', 'Entire home/apt', 'Shared room'], dtype=object)"
      ]
     },
     "execution_count": 152,
     "metadata": {},
     "output_type": "execute_result"
    }
   ],
   "source": [
    "df.room_type.unique()"
   ]
  },
  {
   "cell_type": "code",
   "execution_count": 153,
   "id": "parental-expansion",
   "metadata": {},
   "outputs": [],
   "source": [
    "import numpy as np\n",
    "from framer.framer import Framer\n",
    "\n",
    "df[\"id\"] = df.index\n",
    "\n",
    "feature_name= list(df.drop(columns=[\n",
    "    'name',\n",
    "    \"id\",\n",
    "    'host_id',\n",
    "    'host_name',\n",
    "    'review_scores_value'\n",
    "]).columns)\n",
    "\n",
    "\n",
    "mappings = {\n",
    "    'cancellation_policy': [1,2,3],\n",
    "    \"host_response_time\": list(df.host_response_time.unique()),\n",
    "    'room_type': list(df.room_type.unique()),\n",
    "    'property_type': list(df.property_type.unique())\n",
    "\n",
    "}\n",
    "\n",
    "index=[\"id\"]\n",
    "\n",
    "transform_in = np.log\n",
    "transform_out = np.exp\n",
    "\n",
    "framer = Framer(\n",
    "    feature_name=feature_name,\n",
    "    index=index,\n",
    "    target='review_scores_value',\n",
    "    mappings=mappings,\n",
    "    transform_in=transform_in,\n",
    "    transform_out=transform_out)"
   ]
  },
  {
   "cell_type": "code",
   "execution_count": 154,
   "id": "designed-completion",
   "metadata": {},
   "outputs": [],
   "source": [
    "features = framer.get_features(input_df=df)\n",
    "\n",
    "target = framer.get_target(input_df=df)"
   ]
  },
  {
   "cell_type": "code",
   "execution_count": 155,
   "id": "boring-victoria",
   "metadata": {},
   "outputs": [
    {
     "name": "stderr",
     "output_type": "stream",
     "text": [
      "C:\\Users\\Michael\\anaconda3\\envs\\flash\\lib\\site-packages\\lightgbm\\basic.py:1702: UserWarning: Using categorical_feature in Dataset.\n",
      "  _log_warning('Using categorical_feature in Dataset.')\n"
     ]
    }
   ],
   "source": [
    "import lightgbm\n",
    "\n",
    "model = lightgbm.LGBMRegressor(min_child_samples = 5)\n",
    "model.fit(X=features, y=target, feature_name=framer.feature_name, categorical_feature=framer.categorical_feature)\n",
    "model_pred = model.predict(features)\n",
    "pred_df = framer.transform_out(model_pred)"
   ]
  },
  {
   "cell_type": "code",
   "execution_count": 156,
   "id": "interracial-bibliography",
   "metadata": {},
   "outputs": [
    {
     "data": {
      "text/html": [
       "<div>\n",
       "<style scoped>\n",
       "    .dataframe tbody tr th:only-of-type {\n",
       "        vertical-align: middle;\n",
       "    }\n",
       "\n",
       "    .dataframe tbody tr th {\n",
       "        vertical-align: top;\n",
       "    }\n",
       "\n",
       "    .dataframe thead th {\n",
       "        text-align: right;\n",
       "    }\n",
       "</style>\n",
       "<table border=\"1\" class=\"dataframe\">\n",
       "  <thead>\n",
       "    <tr style=\"text-align: right;\">\n",
       "      <th></th>\n",
       "      <th>actual</th>\n",
       "      <th>prediction</th>\n",
       "      <th>residual</th>\n",
       "    </tr>\n",
       "    <tr>\n",
       "      <th>id</th>\n",
       "      <th></th>\n",
       "      <th></th>\n",
       "      <th></th>\n",
       "    </tr>\n",
       "  </thead>\n",
       "  <tbody>\n",
       "    <tr>\n",
       "      <th>0</th>\n",
       "      <td>9</td>\n",
       "      <td>8.974040</td>\n",
       "      <td>0.025960</td>\n",
       "    </tr>\n",
       "    <tr>\n",
       "      <th>1</th>\n",
       "      <td>10</td>\n",
       "      <td>9.961035</td>\n",
       "      <td>0.038965</td>\n",
       "    </tr>\n",
       "    <tr>\n",
       "      <th>2</th>\n",
       "      <td>9</td>\n",
       "      <td>9.386791</td>\n",
       "      <td>-0.386791</td>\n",
       "    </tr>\n",
       "    <tr>\n",
       "      <th>3</th>\n",
       "      <td>9</td>\n",
       "      <td>9.101039</td>\n",
       "      <td>-0.101039</td>\n",
       "    </tr>\n",
       "    <tr>\n",
       "      <th>4</th>\n",
       "      <td>10</td>\n",
       "      <td>9.910984</td>\n",
       "      <td>0.089016</td>\n",
       "    </tr>\n",
       "  </tbody>\n",
       "</table>\n",
       "</div>"
      ],
      "text/plain": [
       "    actual  prediction  residual\n",
       "id                              \n",
       "0        9    8.974040  0.025960\n",
       "1       10    9.961035  0.038965\n",
       "2        9    9.386791 -0.386791\n",
       "3        9    9.101039 -0.101039\n",
       "4       10    9.910984  0.089016"
      ]
     },
     "execution_count": 156,
     "metadata": {},
     "output_type": "execute_result"
    }
   ],
   "source": [
    "act_v_pred_df = framer.get_actual_v_pred(input_df=df, pred_vector=model_pred)\n",
    "act_v_pred_df.head()"
   ]
  },
  {
   "cell_type": "code",
   "execution_count": 157,
   "id": "italian-wholesale",
   "metadata": {},
   "outputs": [
    {
     "data": {
      "text/html": [
       "<div>\n",
       "<style scoped>\n",
       "    .dataframe tbody tr th:only-of-type {\n",
       "        vertical-align: middle;\n",
       "    }\n",
       "\n",
       "    .dataframe tbody tr th {\n",
       "        vertical-align: top;\n",
       "    }\n",
       "\n",
       "    .dataframe thead th {\n",
       "        text-align: right;\n",
       "    }\n",
       "</style>\n",
       "<table border=\"1\" class=\"dataframe\">\n",
       "  <thead>\n",
       "    <tr style=\"text-align: right;\">\n",
       "      <th></th>\n",
       "      <th>score</th>\n",
       "    </tr>\n",
       "  </thead>\n",
       "  <tbody>\n",
       "    <tr>\n",
       "      <th>r2 score</th>\n",
       "      <td>0.893110</td>\n",
       "    </tr>\n",
       "    <tr>\n",
       "      <th>mape</th>\n",
       "      <td>0.024918</td>\n",
       "    </tr>\n",
       "    <tr>\n",
       "      <th>mape weighted by target</th>\n",
       "      <td>0.023689</td>\n",
       "    </tr>\n",
       "  </tbody>\n",
       "</table>\n",
       "</div>"
      ],
      "text/plain": [
       "                            score\n",
       "r2 score                 0.893110\n",
       "mape                     0.024918\n",
       "mape weighted by target  0.023689"
      ]
     },
     "execution_count": 157,
     "metadata": {},
     "output_type": "execute_result"
    }
   ],
   "source": [
    "framer.report_actual_v_pred(input_df=df, pred_vector=model_pred)"
   ]
  },
  {
   "cell_type": "code",
   "execution_count": 158,
   "id": "lucky-diabetes",
   "metadata": {},
   "outputs": [
    {
     "data": {
      "text/html": [
       "<div>\n",
       "<style scoped>\n",
       "    .dataframe tbody tr th:only-of-type {\n",
       "        vertical-align: middle;\n",
       "    }\n",
       "\n",
       "    .dataframe tbody tr th {\n",
       "        vertical-align: top;\n",
       "    }\n",
       "\n",
       "    .dataframe thead th {\n",
       "        text-align: right;\n",
       "    }\n",
       "</style>\n",
       "<table border=\"1\" class=\"dataframe\">\n",
       "  <thead>\n",
       "    <tr style=\"text-align: right;\">\n",
       "      <th></th>\n",
       "      <th>split</th>\n",
       "      <th>split_pct</th>\n",
       "      <th>gain</th>\n",
       "      <th>gain_pct</th>\n",
       "    </tr>\n",
       "  </thead>\n",
       "  <tbody>\n",
       "    <tr>\n",
       "      <th>number_of_reviews</th>\n",
       "      <td>558</td>\n",
       "      <td>0.186000</td>\n",
       "      <td>13.436414</td>\n",
       "      <td>0.207287</td>\n",
       "    </tr>\n",
       "    <tr>\n",
       "      <th>cancellation_policy</th>\n",
       "      <td>87</td>\n",
       "      <td>0.029000</td>\n",
       "      <td>1.072961</td>\n",
       "      <td>0.016553</td>\n",
       "    </tr>\n",
       "    <tr>\n",
       "      <th>host_for_x_days</th>\n",
       "      <td>512</td>\n",
       "      <td>0.170667</td>\n",
       "      <td>10.089852</td>\n",
       "      <td>0.155659</td>\n",
       "    </tr>\n",
       "    <tr>\n",
       "      <th>host_response_time</th>\n",
       "      <td>101</td>\n",
       "      <td>0.033667</td>\n",
       "      <td>4.655092</td>\n",
       "      <td>0.071815</td>\n",
       "    </tr>\n",
       "    <tr>\n",
       "      <th>host_response_rate</th>\n",
       "      <td>114</td>\n",
       "      <td>0.038000</td>\n",
       "      <td>6.389499</td>\n",
       "      <td>0.098572</td>\n",
       "    </tr>\n",
       "    <tr>\n",
       "      <th>property_type</th>\n",
       "      <td>17</td>\n",
       "      <td>0.005667</td>\n",
       "      <td>0.308324</td>\n",
       "      <td>0.004757</td>\n",
       "    </tr>\n",
       "    <tr>\n",
       "      <th>room_type</th>\n",
       "      <td>26</td>\n",
       "      <td>0.008667</td>\n",
       "      <td>0.328346</td>\n",
       "      <td>0.005065</td>\n",
       "    </tr>\n",
       "    <tr>\n",
       "      <th>accommodates</th>\n",
       "      <td>180</td>\n",
       "      <td>0.060000</td>\n",
       "      <td>2.076793</td>\n",
       "      <td>0.032039</td>\n",
       "    </tr>\n",
       "    <tr>\n",
       "      <th>price</th>\n",
       "      <td>598</td>\n",
       "      <td>0.199333</td>\n",
       "      <td>10.346817</td>\n",
       "      <td>0.159623</td>\n",
       "    </tr>\n",
       "    <tr>\n",
       "      <th>security_deposit</th>\n",
       "      <td>203</td>\n",
       "      <td>0.067667</td>\n",
       "      <td>4.806601</td>\n",
       "      <td>0.074153</td>\n",
       "    </tr>\n",
       "    <tr>\n",
       "      <th>cleaning_fee</th>\n",
       "      <td>230</td>\n",
       "      <td>0.076667</td>\n",
       "      <td>3.520472</td>\n",
       "      <td>0.054311</td>\n",
       "    </tr>\n",
       "    <tr>\n",
       "      <th>minimum_nights</th>\n",
       "      <td>216</td>\n",
       "      <td>0.072000</td>\n",
       "      <td>5.111287</td>\n",
       "      <td>0.078853</td>\n",
       "    </tr>\n",
       "    <tr>\n",
       "      <th>maximum_nights</th>\n",
       "      <td>158</td>\n",
       "      <td>0.052667</td>\n",
       "      <td>2.677903</td>\n",
       "      <td>0.041313</td>\n",
       "    </tr>\n",
       "  </tbody>\n",
       "</table>\n",
       "</div>"
      ],
      "text/plain": [
       "                     split  split_pct       gain  gain_pct\n",
       "number_of_reviews      558   0.186000  13.436414  0.207287\n",
       "cancellation_policy     87   0.029000   1.072961  0.016553\n",
       "host_for_x_days        512   0.170667  10.089852  0.155659\n",
       "host_response_time     101   0.033667   4.655092  0.071815\n",
       "host_response_rate     114   0.038000   6.389499  0.098572\n",
       "property_type           17   0.005667   0.308324  0.004757\n",
       "room_type               26   0.008667   0.328346  0.005065\n",
       "accommodates           180   0.060000   2.076793  0.032039\n",
       "price                  598   0.199333  10.346817  0.159623\n",
       "security_deposit       203   0.067667   4.806601  0.074153\n",
       "cleaning_fee           230   0.076667   3.520472  0.054311\n",
       "minimum_nights         216   0.072000   5.111287  0.078853\n",
       "maximum_nights         158   0.052667   2.677903  0.041313"
      ]
     },
     "execution_count": 158,
     "metadata": {},
     "output_type": "execute_result"
    }
   ],
   "source": [
    "splits = model.booster_.feature_importance(importance_type='split')\n",
    "gain = model.booster_.feature_importance(importance_type='gain')\n",
    "feature_importance_df = pd.DataFrame(splits, index=framer.feature_name, columns=['split'])\n",
    "feature_importance_df['split_pct'] = feature_importance_df['split'] / feature_importance_df['split'].sum()\n",
    "feature_importance_df['gain'] = gain\n",
    "feature_importance_df['gain_pct'] = feature_importance_df['gain'] / feature_importance_df['gain'].sum()\n",
    "\n",
    "feature_importance_df"
   ]
  },
  {
   "cell_type": "code",
   "execution_count": null,
   "id": "organic-kazakhstan",
   "metadata": {},
   "outputs": [],
   "source": [
    "contrib_values = model.predict(features, pred_contrib=True)\n",
    "contrib_col_names = [feature + '_contrib' for feature in framer.feature_name + ['init_value']]\n",
    "contrib_df = pd.DataFrame(contrib_values, columns=contrib_col_names)\n",
    "\n",
    "full_results = df.copy()\n",
    "full_results[contrib_df.columns] = contrib_df\n",
    "full_results[act_v_pred_df.columns] = act_v_pred_df.values"
   ]
  },
  {
   "cell_type": "code",
   "execution_count": 163,
   "id": "isolated-cocktail",
   "metadata": {},
   "outputs": [
    {
     "data": {
      "text/html": [
       "<div>\n",
       "<style scoped>\n",
       "    .dataframe tbody tr th:only-of-type {\n",
       "        vertical-align: middle;\n",
       "    }\n",
       "\n",
       "    .dataframe tbody tr th {\n",
       "        vertical-align: top;\n",
       "    }\n",
       "\n",
       "    .dataframe thead th {\n",
       "        text-align: right;\n",
       "    }\n",
       "</style>\n",
       "<table border=\"1\" class=\"dataframe\">\n",
       "  <thead>\n",
       "    <tr style=\"text-align: right;\">\n",
       "      <th></th>\n",
       "      <th>number_of_reviews_contrib</th>\n",
       "      <th>cancellation_policy_contrib</th>\n",
       "      <th>host_for_x_days_contrib</th>\n",
       "      <th>host_response_time_contrib</th>\n",
       "      <th>host_response_rate_contrib</th>\n",
       "      <th>property_type_contrib</th>\n",
       "      <th>room_type_contrib</th>\n",
       "      <th>accommodates_contrib</th>\n",
       "      <th>price_contrib</th>\n",
       "      <th>security_deposit_contrib</th>\n",
       "      <th>cleaning_fee_contrib</th>\n",
       "      <th>minimum_nights_contrib</th>\n",
       "      <th>maximum_nights_contrib</th>\n",
       "      <th>init_value_contrib</th>\n",
       "    </tr>\n",
       "    <tr>\n",
       "      <th>property_type</th>\n",
       "      <th></th>\n",
       "      <th></th>\n",
       "      <th></th>\n",
       "      <th></th>\n",
       "      <th></th>\n",
       "      <th></th>\n",
       "      <th></th>\n",
       "      <th></th>\n",
       "      <th></th>\n",
       "      <th></th>\n",
       "      <th></th>\n",
       "      <th></th>\n",
       "      <th></th>\n",
       "      <th></th>\n",
       "    </tr>\n",
       "  </thead>\n",
       "  <tbody>\n",
       "    <tr>\n",
       "      <th>Apartment</th>\n",
       "      <td>-0.001485</td>\n",
       "      <td>-0.000221</td>\n",
       "      <td>0.000947</td>\n",
       "      <td>-0.000147</td>\n",
       "      <td>-0.001297</td>\n",
       "      <td>-0.004541</td>\n",
       "      <td>-0.000084</td>\n",
       "      <td>0.000029</td>\n",
       "      <td>0.000671</td>\n",
       "      <td>-0.000514</td>\n",
       "      <td>-0.000222</td>\n",
       "      <td>-0.000558</td>\n",
       "      <td>-0.000450</td>\n",
       "      <td>2.213497</td>\n",
       "    </tr>\n",
       "    <tr>\n",
       "      <th>Bed &amp; Breakfast</th>\n",
       "      <td>0.008695</td>\n",
       "      <td>-0.000397</td>\n",
       "      <td>-0.002551</td>\n",
       "      <td>-0.009786</td>\n",
       "      <td>0.007384</td>\n",
       "      <td>0.007495</td>\n",
       "      <td>-0.001985</td>\n",
       "      <td>0.009259</td>\n",
       "      <td>-0.003085</td>\n",
       "      <td>-0.002892</td>\n",
       "      <td>0.003409</td>\n",
       "      <td>0.000092</td>\n",
       "      <td>-0.001614</td>\n",
       "      <td>2.213497</td>\n",
       "    </tr>\n",
       "    <tr>\n",
       "      <th>Boat</th>\n",
       "      <td>0.002936</td>\n",
       "      <td>0.001427</td>\n",
       "      <td>0.022418</td>\n",
       "      <td>0.015892</td>\n",
       "      <td>0.003650</td>\n",
       "      <td>0.004913</td>\n",
       "      <td>-0.002846</td>\n",
       "      <td>-0.001185</td>\n",
       "      <td>0.018358</td>\n",
       "      <td>0.004520</td>\n",
       "      <td>-0.005600</td>\n",
       "      <td>0.002459</td>\n",
       "      <td>-0.001995</td>\n",
       "      <td>2.213497</td>\n",
       "    </tr>\n",
       "    <tr>\n",
       "      <th>Condominium</th>\n",
       "      <td>0.000279</td>\n",
       "      <td>-0.000243</td>\n",
       "      <td>0.006498</td>\n",
       "      <td>0.000995</td>\n",
       "      <td>0.001424</td>\n",
       "      <td>0.010165</td>\n",
       "      <td>-0.000316</td>\n",
       "      <td>0.000405</td>\n",
       "      <td>0.010525</td>\n",
       "      <td>-0.000423</td>\n",
       "      <td>-0.000254</td>\n",
       "      <td>0.000255</td>\n",
       "      <td>-0.000715</td>\n",
       "      <td>2.213497</td>\n",
       "    </tr>\n",
       "    <tr>\n",
       "      <th>Guesthouse</th>\n",
       "      <td>-0.029862</td>\n",
       "      <td>0.000311</td>\n",
       "      <td>0.049543</td>\n",
       "      <td>-0.019044</td>\n",
       "      <td>0.005868</td>\n",
       "      <td>0.004873</td>\n",
       "      <td>0.000741</td>\n",
       "      <td>0.010453</td>\n",
       "      <td>0.063967</td>\n",
       "      <td>-0.004006</td>\n",
       "      <td>-0.014676</td>\n",
       "      <td>-0.007030</td>\n",
       "      <td>-0.000383</td>\n",
       "      <td>2.213497</td>\n",
       "    </tr>\n",
       "    <tr>\n",
       "      <th>House</th>\n",
       "      <td>0.005262</td>\n",
       "      <td>0.001053</td>\n",
       "      <td>0.000254</td>\n",
       "      <td>-0.001400</td>\n",
       "      <td>0.004511</td>\n",
       "      <td>0.011804</td>\n",
       "      <td>-0.001079</td>\n",
       "      <td>-0.000715</td>\n",
       "      <td>-0.005822</td>\n",
       "      <td>-0.000912</td>\n",
       "      <td>-0.000447</td>\n",
       "      <td>-0.000642</td>\n",
       "      <td>-0.000148</td>\n",
       "      <td>2.213497</td>\n",
       "    </tr>\n",
       "    <tr>\n",
       "      <th>Loft</th>\n",
       "      <td>-0.004093</td>\n",
       "      <td>0.001179</td>\n",
       "      <td>0.001739</td>\n",
       "      <td>0.004830</td>\n",
       "      <td>-0.001427</td>\n",
       "      <td>0.010289</td>\n",
       "      <td>-0.000970</td>\n",
       "      <td>0.000113</td>\n",
       "      <td>0.017335</td>\n",
       "      <td>0.001365</td>\n",
       "      <td>-0.000269</td>\n",
       "      <td>0.000936</td>\n",
       "      <td>0.002418</td>\n",
       "      <td>2.213497</td>\n",
       "    </tr>\n",
       "    <tr>\n",
       "      <th>Townhouse</th>\n",
       "      <td>0.000137</td>\n",
       "      <td>-0.001144</td>\n",
       "      <td>0.010326</td>\n",
       "      <td>-0.005999</td>\n",
       "      <td>0.006661</td>\n",
       "      <td>0.001474</td>\n",
       "      <td>-0.000567</td>\n",
       "      <td>0.002811</td>\n",
       "      <td>-0.000908</td>\n",
       "      <td>0.001013</td>\n",
       "      <td>-0.001347</td>\n",
       "      <td>-0.002752</td>\n",
       "      <td>0.000577</td>\n",
       "      <td>2.213497</td>\n",
       "    </tr>\n",
       "  </tbody>\n",
       "</table>\n",
       "</div>"
      ],
      "text/plain": [
       "                 number_of_reviews_contrib  cancellation_policy_contrib  \\\n",
       "property_type                                                             \n",
       "Apartment                        -0.001485                    -0.000221   \n",
       "Bed & Breakfast                   0.008695                    -0.000397   \n",
       "Boat                              0.002936                     0.001427   \n",
       "Condominium                       0.000279                    -0.000243   \n",
       "Guesthouse                       -0.029862                     0.000311   \n",
       "House                             0.005262                     0.001053   \n",
       "Loft                             -0.004093                     0.001179   \n",
       "Townhouse                         0.000137                    -0.001144   \n",
       "\n",
       "                 host_for_x_days_contrib  host_response_time_contrib  \\\n",
       "property_type                                                          \n",
       "Apartment                       0.000947                   -0.000147   \n",
       "Bed & Breakfast                -0.002551                   -0.009786   \n",
       "Boat                            0.022418                    0.015892   \n",
       "Condominium                     0.006498                    0.000995   \n",
       "Guesthouse                      0.049543                   -0.019044   \n",
       "House                           0.000254                   -0.001400   \n",
       "Loft                            0.001739                    0.004830   \n",
       "Townhouse                       0.010326                   -0.005999   \n",
       "\n",
       "                 host_response_rate_contrib  property_type_contrib  \\\n",
       "property_type                                                        \n",
       "Apartment                         -0.001297              -0.004541   \n",
       "Bed & Breakfast                    0.007384               0.007495   \n",
       "Boat                               0.003650               0.004913   \n",
       "Condominium                        0.001424               0.010165   \n",
       "Guesthouse                         0.005868               0.004873   \n",
       "House                              0.004511               0.011804   \n",
       "Loft                              -0.001427               0.010289   \n",
       "Townhouse                          0.006661               0.001474   \n",
       "\n",
       "                 room_type_contrib  accommodates_contrib  price_contrib  \\\n",
       "property_type                                                             \n",
       "Apartment                -0.000084              0.000029       0.000671   \n",
       "Bed & Breakfast          -0.001985              0.009259      -0.003085   \n",
       "Boat                     -0.002846             -0.001185       0.018358   \n",
       "Condominium              -0.000316              0.000405       0.010525   \n",
       "Guesthouse                0.000741              0.010453       0.063967   \n",
       "House                    -0.001079             -0.000715      -0.005822   \n",
       "Loft                     -0.000970              0.000113       0.017335   \n",
       "Townhouse                -0.000567              0.002811      -0.000908   \n",
       "\n",
       "                 security_deposit_contrib  cleaning_fee_contrib  \\\n",
       "property_type                                                     \n",
       "Apartment                       -0.000514             -0.000222   \n",
       "Bed & Breakfast                 -0.002892              0.003409   \n",
       "Boat                             0.004520             -0.005600   \n",
       "Condominium                     -0.000423             -0.000254   \n",
       "Guesthouse                      -0.004006             -0.014676   \n",
       "House                           -0.000912             -0.000447   \n",
       "Loft                             0.001365             -0.000269   \n",
       "Townhouse                        0.001013             -0.001347   \n",
       "\n",
       "                 minimum_nights_contrib  maximum_nights_contrib  \\\n",
       "property_type                                                     \n",
       "Apartment                     -0.000558               -0.000450   \n",
       "Bed & Breakfast                0.000092               -0.001614   \n",
       "Boat                           0.002459               -0.001995   \n",
       "Condominium                    0.000255               -0.000715   \n",
       "Guesthouse                    -0.007030               -0.000383   \n",
       "House                         -0.000642               -0.000148   \n",
       "Loft                           0.000936                0.002418   \n",
       "Townhouse                     -0.002752                0.000577   \n",
       "\n",
       "                 init_value_contrib  \n",
       "property_type                        \n",
       "Apartment                  2.213497  \n",
       "Bed & Breakfast            2.213497  \n",
       "Boat                       2.213497  \n",
       "Condominium                2.213497  \n",
       "Guesthouse                 2.213497  \n",
       "House                      2.213497  \n",
       "Loft                       2.213497  \n",
       "Townhouse                  2.213497  "
      ]
     },
     "execution_count": 163,
     "metadata": {},
     "output_type": "execute_result"
    }
   ],
   "source": [
    "full_results.groupby(\"property_type\")[contrib_col_names].mean()"
   ]
  },
  {
   "cell_type": "code",
   "execution_count": 164,
   "id": "gothic-portsmouth",
   "metadata": {},
   "outputs": [],
   "source": [
    "flatbook = df.loc[df.host_name == \"Flatbook\"]"
   ]
  },
  {
   "cell_type": "code",
   "execution_count": 166,
   "id": "worth-spell",
   "metadata": {},
   "outputs": [
    {
     "data": {
      "text/plain": [
       "property_type\n",
       "Apartment      20\n",
       "Condominium    12\n",
       "Loft            3\n",
       "dtype: int64"
      ]
     },
     "execution_count": 166,
     "metadata": {},
     "output_type": "execute_result"
    }
   ],
   "source": [
    "flatbook.value_counts(\"property_type\")"
   ]
  },
  {
   "cell_type": "code",
   "execution_count": null,
   "id": "portuguese-overview",
   "metadata": {},
   "outputs": [],
   "source": []
  }
 ],
 "metadata": {
  "kernelspec": {
   "display_name": "Python 3",
   "language": "python",
   "name": "python3"
  },
  "language_info": {
   "codemirror_mode": {
    "name": "ipython",
    "version": 3
   },
   "file_extension": ".py",
   "mimetype": "text/x-python",
   "name": "python",
   "nbconvert_exporter": "python",
   "pygments_lexer": "ipython3",
   "version": "3.7.3"
  }
 },
 "nbformat": 4,
 "nbformat_minor": 5
}
